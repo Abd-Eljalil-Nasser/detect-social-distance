{
 "cells": [
  {
   "cell_type": "code",
   "execution_count": 2,
   "metadata": {},
   "outputs": [],
   "source": [
    "# Import the cv2 library\n",
    "import cv2\n",
    "import numpy as np\n",
    "import matplotlib.pyplot as plt\n",
    "import matplotlib.image as mpimg\n",
    "# Read the image you want connected components of\n",
    "src = cv2.imread('ex1.png',0)\n",
    "# Threshold it so it becomes binary\n",
    "ret, thresh = cv2.threshold(src,0,255,cv2.THRESH_BINARY+cv2.THRESH_OTSU)\n",
    "\n",
    "#Dilation\n",
    "kernel = cv2.getStructuringElement(cv2.MORPH_ELLIPSE,(9,9))\n",
    "dilation = cv2.dilate(thresh,kernel,iterations = 2)\n",
    "\n",
    "# You need to choose 4 or 8 for connectivity type\n",
    "connectivity = 8  \n",
    "# Perform the operation\n",
    "output = cv2.connectedComponentsWithStats(dilation, connectivity, cv2.CV_32S)\n",
    "# Get the results\n",
    "# The first cell is the number of labels\n",
    "num_labels = output[0]\n",
    "# The second cell is the label matrix\n",
    "labels = output[1]\n",
    "# The third cell is the stat matrix\n",
    "stats = output[2]\n",
    "# The fourth cell is the centroid matrix\n",
    "centroids = output[3]"
   ]
  },
  {
   "cell_type": "code",
   "execution_count": 3,
   "metadata": {},
   "outputs": [],
   "source": [
    "centroids[0][0] = 0\n",
    "sortedArray = sorted(centroids, key=lambda x: x[0], reverse= 0)\n",
    "\n",
    "distances = []\n",
    "for i in range(num_labels-2):\n",
    "    distances.append(abs(sortedArray[i+1][0] - sortedArray[i+2][0]))\n",
    "    \n",
    "realDistances = []\n",
    "for i in distances:\n",
    "    realDistances.append((i * 165)/stats[2, cv2.CC_STAT_HEIGHT])"
   ]
  },
  {
   "cell_type": "code",
   "execution_count": 4,
   "metadata": {},
   "outputs": [
    {
     "data": {
      "text/plain": [
       "[49.598810916347155, 50.53764212000384, 51.64349988977317, 48.35040470618683]"
      ]
     },
     "execution_count": 4,
     "metadata": {},
     "output_type": "execute_result"
    }
   ],
   "source": [
    "realDistances"
   ]
  },
  {
   "cell_type": "code",
   "execution_count": 5,
   "metadata": {},
   "outputs": [],
   "source": [
    "del distances"
   ]
  },
  {
   "cell_type": "code",
   "execution_count": null,
   "metadata": {},
   "outputs": [],
   "source": []
  }
 ],
 "metadata": {
  "kernelspec": {
   "display_name": "Python 3",
   "language": "python",
   "name": "python3"
  },
  "language_info": {
   "codemirror_mode": {
    "name": "ipython",
    "version": 3
   },
   "file_extension": ".py",
   "mimetype": "text/x-python",
   "name": "python",
   "nbconvert_exporter": "python",
   "pygments_lexer": "ipython3",
   "version": "3.7.6"
  }
 },
 "nbformat": 4,
 "nbformat_minor": 4
}
